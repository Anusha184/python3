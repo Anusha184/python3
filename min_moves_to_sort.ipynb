{
  "nbformat": 4,
  "nbformat_minor": 0,
  "metadata": {
    "colab": {
      "name": "Untitled2.ipynb",
      "provenance": [],
      "include_colab_link": true
    },
    "kernelspec": {
      "name": "python3",
      "display_name": "Python 3"
    }
  },
  "cells": [
    {
      "cell_type": "markdown",
      "metadata": {
        "id": "view-in-github",
        "colab_type": "text"
      },
      "source": [
        "<a href=\"https://colab.research.google.com/github/vibha-v/hack/blob/master/min_moves_to_sort.ipynb\" target=\"_parent\"><img src=\"https://colab.research.google.com/assets/colab-badge.svg\" alt=\"Open In Colab\"/></a>"
      ]
    },
    {
      "cell_type": "code",
      "metadata": {
        "id": "gMFW2oEr6LTH",
        "colab_type": "code",
        "colab": {}
      },
      "source": [
        "arr=[int(i) for i in input().split()]\n",
        "sarr=sorted(arr)\n",
        "c=0\n",
        "for i in range(len(arr)):\n",
        "  if(arr[i]==sarr[c]):\n",
        "    c+=1\n",
        "print(len(arr)-c,end=\"\")"
      ],
      "execution_count": 0,
      "outputs": []
    }
  ]
}