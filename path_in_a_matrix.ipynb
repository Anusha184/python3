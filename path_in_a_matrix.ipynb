{
  "nbformat": 4,
  "nbformat_minor": 0,
  "metadata": {
    "colab": {
      "name": "Untitled6.ipynb",
      "provenance": [],
      "authorship_tag": "ABX9TyPzKdNzWW5AHdsE1drCpqsg",
      "include_colab_link": true
    },
    "kernelspec": {
      "name": "python3",
      "display_name": "Python 3"
    }
  },
  "cells": [
    {
      "cell_type": "markdown",
      "metadata": {
        "id": "view-in-github",
        "colab_type": "text"
      },
      "source": [
        "<a href=\"https://colab.research.google.com/github/vibha-v/python3/blob/master/path_in_a_matrix.ipynb\" target=\"_parent\"><img src=\"https://colab.research.google.com/assets/colab-badge.svg\" alt=\"Open In Colab\"/></a>"
      ]
    },
    {
      "cell_type": "code",
      "metadata": {
        "id": "y7YWZda1Z0ys",
        "colab_type": "code",
        "colab": {
          "base_uri": "https://localhost:8080/",
          "height": 118
        },
        "outputId": "e6492adb-35ac-4008-dee9-48b92b9c0473"
      },
      "source": [
        "\n",
        "# Python3 program to Print all possible paths from  top left to bottom right of a mXn matrix \n",
        "allPaths = [] \n",
        "def findPaths(maze,m,n): \n",
        "    path = [0 for d in range(m+n-1)] \n",
        "    findPathsUtil(maze,m,n,0,0,path,0) \n",
        "      \n",
        "def findPathsUtil(maze,m,n,i,j,path,indx): \n",
        "    global allPaths \n",
        "    # if we reach the bottom of maze, we can only move right \n",
        "    if i==m-1: \n",
        "        for k in range(j,n): \n",
        "            #path.append(maze[i][k]) \n",
        "            path[indx+k-j] = maze[i][k] \n",
        "        # if we hit this block, it means one path is completed.  \n",
        "        # Add it to paths list and print \n",
        "        print(path) \n",
        "        allPaths.append(path) \n",
        "        return\n",
        "    # if we reach to the right most corner, we can only move down \n",
        "    if j == n-1: \n",
        "        for k in range(i,m): \n",
        "            path[indx+k-i] = maze[k][j] \n",
        "          #path.append(maze[j][k]) \n",
        "        # if we hit this block, it means one path is completed.  \n",
        "        # Add it to paths list and print \n",
        "        print(path) \n",
        "        allPaths.append(path) \n",
        "        return\n",
        "      \n",
        "    # add current element to the path list \n",
        "    #path.append(maze[i][j]) \n",
        "    path[indx] = maze[i][j] \n",
        "      \n",
        "    # move down in y direction and call findPathsUtil recursively \n",
        "    findPathsUtil(maze, m, n, i+1, j, path, indx+1) \n",
        "      \n",
        "    # move down in y direction and call findPathsUtil recursively \n",
        "    findPathsUtil(maze, m, n, i, j+1, path, indx+1) \n",
        "  \n",
        "if __name__ == '__main__': \n",
        "    maze = [['a','b','c'], \n",
        "            ['d','e','f'], \n",
        "            ['g','h','i']] \n",
        "    findPaths(maze,3,3) \n",
        "    #print(allPaths) "
      ],
      "execution_count": 2,
      "outputs": [
        {
          "output_type": "stream",
          "text": [
            "['a', 'd', 'g', 'h', 'i']\n",
            "['a', 'd', 'e', 'h', 'i']\n",
            "['a', 'd', 'e', 'f', 'i']\n",
            "['a', 'b', 'e', 'h', 'i']\n",
            "['a', 'b', 'e', 'f', 'i']\n",
            "['a', 'b', 'c', 'f', 'i']\n"
          ],
          "name": "stdout"
        }
      ]
    }
  ]
}