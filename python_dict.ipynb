{
  "nbformat": 4,
  "nbformat_minor": 0,
  "metadata": {
    "colab": {
      "name": "python_dict.ipynb",
      "provenance": [],
      "authorship_tag": "ABX9TyPPxEuOSYypZhSf/AaG2Wun",
      "include_colab_link": true
    },
    "kernelspec": {
      "name": "python3",
      "display_name": "Python 3"
    }
  },
  "cells": [
    {
      "cell_type": "markdown",
      "metadata": {
        "id": "view-in-github",
        "colab_type": "text"
      },
      "source": [
        "<a href=\"https://colab.research.google.com/github/vibha-v/python3/blob/master/python_dict.ipynb\" target=\"_parent\"><img src=\"https://colab.research.google.com/assets/colab-badge.svg\" alt=\"Open In Colab\"/></a>"
      ]
    },
    {
      "cell_type": "code",
      "metadata": {
        "id": "vW8oHshAZWC1",
        "colab_type": "code",
        "colab": {
          "base_uri": "https://localhost:8080/",
          "height": 34
        },
        "outputId": "54a8814e-d37d-4cab-be38-3a10b1042f0c"
      },
      "source": [
        "def mystery(l,v):\n",
        "  if len(l) == 0:\n",
        "    return (v)\n",
        "  else:\n",
        "    return (mystery(l[:-1],l[-1]+v))\n",
        "a=mystery([22,14,19,65,82,55],1)\n",
        "print(a)"
      ],
      "execution_count": 2,
      "outputs": [
        {
          "output_type": "stream",
          "text": [
            "258\n"
          ],
          "name": "stdout"
        }
      ]
    },
    {
      "cell_type": "code",
      "metadata": {
        "id": "zcYyzUs9Z4B4",
        "colab_type": "code",
        "colab": {
          "base_uri": "https://localhost:8080/",
          "height": 34
        },
        "outputId": "d9465de1-66b1-4631-b174-c8fa5b95edc0"
      },
      "source": [
        "triples = [ (x,y,z) for x in range(2,4) for y in range(2,5) for z in range(5,7) if 2*x*y > 3*z ]\n",
        "print(triples)"
      ],
      "execution_count": 4,
      "outputs": [
        {
          "output_type": "stream",
          "text": [
            "[(2, 4, 5), (3, 3, 5), (3, 4, 5), (3, 4, 6)]\n"
          ],
          "name": "stdout"
        }
      ]
    },
    {
      "cell_type": "code",
      "metadata": {
        "id": "c44uoDgMaZ87",
        "colab_type": "code",
        "colab": {
          "base_uri": "https://localhost:8080/",
          "height": 34
        },
        "outputId": "704da998-3fcf-46a2-90c0-eac44a8e7fe5"
      },
      "source": [
        "runs = {\"Test\":{\"Rahul\":[90,14,35],\"Kohli\":[3,103,73,42],\"Pujara\":[53,15,133,8]},\"ODI\":{\"Sharma\":[37,99],\"Kohli\":[63,47]}}\n",
        "#runs[\"ODI\"][\"Rahul\"].append([74])\n",
        "#runs[\"ODI\"][\"Rahul\"].extend([74])\n",
        "#runs[\"ODI\"][\"Rahul\"][0]=74\n",
        "runs[\"ODI\"][\"Rahul\"]=[74]\n",
        "print(runs)"
      ],
      "execution_count": 12,
      "outputs": [
        {
          "output_type": "stream",
          "text": [
            "{'Test': {'Rahul': [90, 14, 35], 'Kohli': [3, 103, 73, 42], 'Pujara': [53, 15, 133, 8]}, 'ODI': {'Sharma': [37, 99], 'Kohli': [63, 47], 'Rahul': [74]}}\n"
          ],
          "name": "stdout"
        }
      ]
    },
    {
      "cell_type": "code",
      "metadata": {
        "id": "7N24iMrLbUXH",
        "colab_type": "code",
        "colab": {}
      },
      "source": [
        "actor = {}\n",
        "actor[\"Star Wars\"] = [\"Rey\",\"Ridley\"]\n",
        "actor[\"Star Wars, Rey\"] = \"Ridley\"\n",
        "#actor[[\"Star Wars\", \"Rey\"]] = \"Ridley\"\n",
        "actor[(\"Star Wars\", \"Rey\")] = \"Ridley\""
      ],
      "execution_count": 0,
      "outputs": []
    }
  ]
}