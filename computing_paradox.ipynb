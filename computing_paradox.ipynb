{
  "nbformat": 4,
  "nbformat_minor": 0,
  "metadata": {
    "colab": {
      "name": "Untitled3.ipynb",
      "provenance": [],
      "include_colab_link": true
    },
    "kernelspec": {
      "name": "python3",
      "display_name": "Python 3"
    }
  },
  "cells": [
    {
      "cell_type": "markdown",
      "metadata": {
        "id": "view-in-github",
        "colab_type": "text"
      },
      "source": [
        "<a href=\"https://colab.research.google.com/github/vibha-v/hack/blob/master/computing_paradox.ipynb\" target=\"_parent\"><img src=\"https://colab.research.google.com/assets/colab-badge.svg\" alt=\"Open In Colab\"/></a>"
      ]
    },
    {
      "cell_type": "code",
      "metadata": {
        "id": "UZxfFXTf7Fyn",
        "colab_type": "code",
        "colab": {}
      },
      "source": [
        "t = int(input())\n",
        "arr = [int(x) for x in input().split()]\n",
        "k=int(input())\n",
        "val=arr[k-1]\n",
        "arr=sorted(arr)\n",
        "#print(arr)\n",
        "for i in range(t):\n",
        "  if(arr[i]==val):\n",
        "    print(i+1,end=\"\")\n",
        "    break\n",
        "   "
      ],
      "execution_count": 0,
      "outputs": []
    }
  ]
}