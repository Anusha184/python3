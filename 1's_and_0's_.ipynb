{
  "nbformat": 4,
  "nbformat_minor": 0,
  "metadata": {
    "colab": {
      "name": "1's and 0's .ipynb",
      "provenance": [],
      "collapsed_sections": [],
      "include_colab_link": true
    },
    "kernelspec": {
      "name": "python3",
      "display_name": "Python 3"
    }
  },
  "cells": [
    {
      "cell_type": "markdown",
      "metadata": {
        "id": "view-in-github",
        "colab_type": "text"
      },
      "source": [
        "<a href=\"https://colab.research.google.com/github/vibha-v/python3/blob/master/1's_and_0's_.ipynb\" target=\"_parent\"><img src=\"https://colab.research.google.com/assets/colab-badge.svg\" alt=\"Open In Colab\"/></a>"
      ]
    },
    {
      "cell_type": "code",
      "metadata": {
        "id": "K1sE4kYqqg1r",
        "colab_type": "code",
        "colab": {
          "base_uri": "https://localhost:8080/",
          "height": 51
        },
        "outputId": "05dcc850-2b63-4642-ead0-cc048b715089"
      },
      "source": [
        "import sys\n",
        "num=input()\n",
        "c0=0\n",
        "c1=0\n",
        "if (len(num)==1):\n",
        "  print(\"YES\")\n",
        "  sys.exit(0)\n",
        "for i in num:\n",
        "  if(i=='1'):\n",
        "    c1+=1\n",
        "  else:\n",
        "    c0+=1\n",
        "if((len(num)-c0==1)or(len(num)-c1==1)):\n",
        "  print(\"YES\")\n",
        "else:\n",
        "  print(\"NO\")"
      ],
      "execution_count": 25,
      "outputs": [
        {
          "output_type": "stream",
          "text": [
            "1100111\n",
            "NO\n"
          ],
          "name": "stdout"
        }
      ]
    }
  ]
}