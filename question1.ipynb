{
  "nbformat": 4,
  "nbformat_minor": 0,
  "metadata": {
    "colab": {
      "name": "question1.ipynb",
      "provenance": [],
      "include_colab_link": true
    },
    "kernelspec": {
      "name": "python3",
      "display_name": "Python 3"
    }
  },
  "cells": [
    {
      "cell_type": "markdown",
      "metadata": {
        "id": "view-in-github",
        "colab_type": "text"
      },
      "source": [
        "<a href=\"https://colab.research.google.com/github/vibha-v/hack/blob/master/question1.ipynb\" target=\"_parent\"><img src=\"https://colab.research.google.com/assets/colab-badge.svg\" alt=\"Open In Colab\"/></a>"
      ]
    },
    {
      "cell_type": "code",
      "metadata": {
        "id": "VlkgD7svjNfv",
        "colab_type": "code",
        "colab": {
          "base_uri": "https://localhost:8080/",
          "height": 68
        },
        "outputId": "e6c5ee09-bf6a-4544-aa3a-e07c8857b28e"
      },
      "source": [
        "import re\n",
        "str=\"hello i bought an apple for $20, banana for $56 and a chocolate for $45\"\n",
        "#x=re.findall(\"$[0-9]+\",str)this is wrong coz $ is special symbol.\n",
        "x=re.findall(\"\\$[0-9]+\",str)\n",
        "print(x)\n",
        "y=re.findall(\"\\$([0-9]+)\",str)  #to remove doller we used the brackets.\n",
        "print(y)\n",
        "sum=0\n",
        "for i in y:\n",
        "  sum=sum+int(i)\n",
        "print(sum)"
      ],
      "execution_count": 11,
      "outputs": [
        {
          "output_type": "stream",
          "text": [
            "['$20', '$56', '$45']\n",
            "['20', '56', '45']\n",
            "121\n"
          ],
          "name": "stdout"
        }
      ]
    }
  ]
}