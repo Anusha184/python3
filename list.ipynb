{
  "nbformat": 4,
  "nbformat_minor": 0,
  "metadata": {
    "colab": {
      "name": "Untitled1.ipynb",
      "provenance": [],
      "collapsed_sections": [],
      "include_colab_link": true
    },
    "kernelspec": {
      "name": "python3",
      "display_name": "Python 3"
    }
  },
  "cells": [
    {
      "cell_type": "markdown",
      "metadata": {
        "id": "view-in-github",
        "colab_type": "text"
      },
      "source": [
        "<a href=\"https://colab.research.google.com/github/vibha-v/hack/blob/master/list.ipynb\" target=\"_parent\"><img src=\"https://colab.research.google.com/assets/colab-badge.svg\" alt=\"Open In Colab\"/></a>"
      ]
    },
    {
      "cell_type": "code",
      "metadata": {
        "id": "p3u6d7N25ew9",
        "colab_type": "code",
        "colab": {
          "base_uri": "https://localhost:8080/",
          "height": 50
        },
        "outputId": "baf6901d-6d09-4566-a26f-c948a1735c9f"
      },
      "source": [
        "#from a string arrange the words according to length and alphabet\n",
        "s='ab abc aaa cdef a abcdef cab'\n",
        "l1=s.split(' ')\n",
        "print(l1)\n",
        "l2=list()\n",
        "l3=list()\n",
        "for i in range(len(l1)):\n",
        "    l2.append((len(l1[i]),l1[i]))\n",
        "#print(l2)\n",
        "l2.sort()\n",
        "for i in range(len(l2)):\n",
        "    l3.append((l2[i][1]))\n",
        "    #print(l2[i][1],end=' ')\n",
        "print(l3)\n"
      ],
      "execution_count": 1,
      "outputs": [
        {
          "output_type": "stream",
          "text": [
            "['ab', 'abc', 'aaa', 'cdef', 'a', 'abcdef', 'cab']\n",
            "['a', 'ab', 'aaa', 'abc', 'cab', 'cdef', 'abcdef']\n"
          ],
          "name": "stdout"
        }
      ]
    }
  ]
}