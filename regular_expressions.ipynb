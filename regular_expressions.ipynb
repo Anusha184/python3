{
  "nbformat": 4,
  "nbformat_minor": 0,
  "metadata": {
    "colab": {
      "name": "regular_expressions.ipynb",
      "provenance": [],
      "collapsed_sections": [],
      "include_colab_link": true
    },
    "kernelspec": {
      "name": "python3",
      "display_name": "Python 3"
    }
  },
  "cells": [
    {
      "cell_type": "markdown",
      "metadata": {
        "id": "view-in-github",
        "colab_type": "text"
      },
      "source": [
        "<a href=\"https://colab.research.google.com/github/vibha-v/hack/blob/master/regular_expressions.ipynb\" target=\"_parent\"><img src=\"https://colab.research.google.com/assets/colab-badge.svg\" alt=\"Open In Colab\"/></a>"
      ]
    },
    {
      "cell_type": "code",
      "metadata": {
        "id": "gCJLqYc0W8bh",
        "colab_type": "code",
        "colab": {
          "base_uri": "https://localhost:8080/",
          "height": 170
        },
        "outputId": "a3f2027b-0828-41a0-acfc-50b1d02ee7c3"
      },
      "source": [
        "import re\n",
        "str=\"spain is in rain\"\n",
        "x=re.search(\"ai\",str)\n",
        "print(x)\n",
        "print(x.span())\n",
        "print(x.group())\n",
        "print(x.string)\n",
        "x=re.match(\"ai\",str)\n",
        "print(x)\n",
        "x=re.findall(\"ai\",str)\n",
        "print(x)\n",
        "x=re.search(\"$spain\",str)  #tells whether spain is present in the end\n",
        "print(x)\n",
        "x=re.search(\"spain\",str) \n",
        "print(x)\n",
        "x=re.match(\"spain\",str) \n",
        "print(x)"
      ],
      "execution_count": 16,
      "outputs": [
        {
          "output_type": "stream",
          "text": [
            "<_sre.SRE_Match object; span=(2, 4), match='ai'>\n",
            "(2, 4)\n",
            "ai\n",
            "spain is in rain\n",
            "None\n",
            "['ai', 'ai']\n",
            "None\n",
            "<_sre.SRE_Match object; span=(0, 5), match='spain'>\n",
            "<_sre.SRE_Match object; span=(0, 5), match='spain'>\n"
          ],
          "name": "stdout"
        }
      ]
    },
    {
      "cell_type": "code",
      "metadata": {
        "id": "cfm34sXqhmSn",
        "colab_type": "code",
        "colab": {
          "base_uri": "https://localhost:8080/",
          "height": 51
        },
        "outputId": "65af0074-81f0-4e71-ca4b-6c89ea130819"
      },
      "source": [
        "import re\n",
        "str=\"spain is in rain\"\n",
        "x=re.subn(\"\\s\",\"9\",str)\n",
        "print(x)\n",
        "x=re.subn(\"\\s\",\"9\",str,2)\n",
        "print(x)"
      ],
      "execution_count": 22,
      "outputs": [
        {
          "output_type": "stream",
          "text": [
            "('spain9is9in9rain', 3)\n",
            "('spain9is9in rain', 2)\n"
          ],
          "name": "stdout"
        }
      ]
    },
    {
      "cell_type": "code",
      "metadata": {
        "id": "65w4Wk2vigNO",
        "colab_type": "code",
        "colab": {
          "base_uri": "https://localhost:8080/",
          "height": 51
        },
        "outputId": "f9f247ef-1b2d-480a-a79d-1c96b088d430"
      },
      "source": [
        "import re\n",
        "str=\"spain is in rain\"\n",
        "x=re.split(\"\\s\",str)\n",
        "print(x)\n",
        "x=re.split(\"\\s\",str,1)\n",
        "print(x)"
      ],
      "execution_count": 26,
      "outputs": [
        {
          "output_type": "stream",
          "text": [
            "['spain', 'is', 'in', 'rain']\n",
            "['spain', 'is in rain']\n"
          ],
          "name": "stdout"
        }
      ]
    },
    {
      "cell_type": "code",
      "metadata": {
        "id": "iUom1yEji2hX",
        "colab_type": "code",
        "colab": {}
      },
      "source": [
        ""
      ],
      "execution_count": 0,
      "outputs": []
    }
  ]
}