{
  "nbformat": 4,
  "nbformat_minor": 0,
  "metadata": {
    "colab": {
      "name": "no-nine's.ipynb",
      "provenance": [],
      "collapsed_sections": [],
      "include_colab_link": true
    },
    "kernelspec": {
      "name": "python3",
      "display_name": "Python 3"
    }
  },
  "cells": [
    {
      "cell_type": "markdown",
      "metadata": {
        "id": "view-in-github",
        "colab_type": "text"
      },
      "source": [
        "<a href=\"https://colab.research.google.com/github/vibha-v/hack/blob/master/no_nine's.ipynb\" target=\"_parent\"><img src=\"https://colab.research.google.com/assets/colab-badge.svg\" alt=\"Open In Colab\"/></a>"
      ]
    },
    {
      "cell_type": "code",
      "metadata": {
        "id": "WM5j1eiRnryy",
        "colab_type": "code",
        "colab": {
          "base_uri": "https://localhost:8080/",
          "height": 51
        },
        "outputId": "cbdfc2f9-6e62-4da0-9384-89bc5861fbc5"
      },
      "source": [
        "a,b=input().split()\n",
        "a=int(a)\n",
        "b=int(b)\n",
        "x=set()\n",
        "flag=0\n",
        "for i in range(a,b+1):\n",
        "  if(i%9==0):\n",
        "    continue\n",
        "  else:\n",
        "    n=i\n",
        "    while(n!=0):\n",
        "      r=n%10\n",
        "      if(r==9):\n",
        "        flag=1\n",
        "        break\n",
        "      else:\n",
        "        flag=0\n",
        "        n=n//10\n",
        "    if(flag==0):    \n",
        "        x.update([i])\n",
        "print(x)"
      ],
      "execution_count": 18,
      "outputs": [
        {
          "output_type": "stream",
          "text": [
            "90 100\n",
            "{100}\n"
          ],
          "name": "stdout"
        }
      ]
    }
  ]
}