{
  "nbformat": 4,
  "nbformat_minor": 0,
  "metadata": {
    "colab": {
      "name": "Untitled0.ipynb",
      "provenance": [],
      "include_colab_link": true
    },
    "kernelspec": {
      "name": "python3",
      "display_name": "Python 3"
    }
  },
  "cells": [
    {
      "cell_type": "markdown",
      "metadata": {
        "id": "view-in-github",
        "colab_type": "text"
      },
      "source": [
        "<a href=\"https://colab.research.google.com/github/vibha-v/hack/blob/master/mat%20pattern.ipynb\" target=\"_parent\"><img src=\"https://colab.research.google.com/assets/colab-badge.svg\" alt=\"Open In Colab\"/></a>"
      ]
    },
    {
      "cell_type": "code",
      "metadata": {
        "id": "NkrFZVr-4V8B",
        "colab_type": "code",
        "colab": {
          "base_uri": "https://localhost:8080/",
          "height": 168
        },
        "outputId": "8d8c1b4e-852b-45f7-d5f4-1fa2bf90b462"
      },
      "source": [
        "a=5\n",
        "b=5\n",
        "for i in range(5):\n",
        "    for k in range(a-1):\n",
        "        print(\"-\",end=\" \")\n",
        "    a=a-1\n",
        "    for j in range(2*i+1):\n",
        "        print(\"*\",end=\" \")\n",
        "    for k in range(b-1):\n",
        "        print(\"-\",end=\" \")\n",
        "    b=b-1\n",
        "    print()\n",
        "r=2*i\n",
        "a=1\n",
        "b=1\n",
        "for i in range(4):\n",
        "    for k in range(a):\n",
        "        print(\"-\",end=\" \")\n",
        "    a=a+1\n",
        "    for j in range(r-1):\n",
        "        print(\"*\",end=\" \")\n",
        "    r=r-2\n",
        "    for k in range(b):\n",
        "        print(\"-\",end=\" \")\n",
        "    b+=1\n",
        "    print()"
      ],
      "execution_count": 1,
      "outputs": [
        {
          "output_type": "stream",
          "text": [
            "- - - - * - - - - \n",
            "- - - * * * - - - \n",
            "- - * * * * * - - \n",
            "- * * * * * * * - \n",
            "* * * * * * * * * \n",
            "- * * * * * * * - \n",
            "- - * * * * * - - \n",
            "- - - * * * - - - \n",
            "- - - - * - - - - \n"
          ],
          "name": "stdout"
        }
      ]
    }
  ]
}