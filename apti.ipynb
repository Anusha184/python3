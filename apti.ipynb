{
  "nbformat": 4,
  "nbformat_minor": 0,
  "metadata": {
    "colab": {
      "name": "apti.ipynb",
      "provenance": [],
      "collapsed_sections": [],
      "include_colab_link": true
    },
    "kernelspec": {
      "name": "python3",
      "display_name": "Python 3"
    }
  },
  "cells": [
    {
      "cell_type": "markdown",
      "metadata": {
        "id": "view-in-github",
        "colab_type": "text"
      },
      "source": [
        "<a href=\"https://colab.research.google.com/github/vibha-v/hack/blob/master/apti.ipynb\" target=\"_parent\"><img src=\"https://colab.research.google.com/assets/colab-badge.svg\" alt=\"Open In Colab\"/></a>"
      ]
    },
    {
      "cell_type": "code",
      "metadata": {
        "id": "6lHMLJ95Q2CM",
        "colab_type": "code",
        "colab": {
          "base_uri": "https://localhost:8080/",
          "height": 34
        },
        "outputId": "7914b8e8-4473-44bf-df54-2d0de8170824"
      },
      "source": [
        "s1=frozenset((1,2,3,4))\n",
        "#s1.add(5)\n",
        "print(s1)"
      ],
      "execution_count": 22,
      "outputs": [
        {
          "output_type": "stream",
          "text": [
            "frozenset({1, 2, 3, 4})\n"
          ],
          "name": "stdout"
        }
      ]
    },
    {
      "cell_type": "code",
      "metadata": {
        "id": "gcce_rCvWgyG",
        "colab_type": "code",
        "colab": {
          "base_uri": "https://localhost:8080/",
          "height": 68
        },
        "outputId": "8dde6b76-9660-4081-907d-186ab5b28bc0"
      },
      "source": [
        "s2=set((1,2,3,4,5))\n",
        "s2.add(6)\n",
        "print(s2)\n",
        "s2.update([1,2,3,7])\n",
        "print(s2)\n",
        "s2.discard(7)\n",
        "s2.remove(5) \n",
        "print(s2)\n"
      ],
      "execution_count": 20,
      "outputs": [
        {
          "output_type": "stream",
          "text": [
            "{1, 2, 3, 4, 5, 6}\n",
            "{1, 2, 3, 4, 5, 6, 7}\n",
            "{1, 2, 3, 4, 6}\n"
          ],
          "name": "stdout"
        }
      ]
    },
    {
      "cell_type": "code",
      "metadata": {
        "id": "6EP9jHNpbSz-",
        "colab_type": "code",
        "colab": {
          "base_uri": "https://localhost:8080/",
          "height": 187
        },
        "outputId": "3d06a832-29fc-471f-f360-1e40dfecdf7d"
      },
      "source": [
        "d1={'a':1,'b':2}\n",
        "print(d1)\n",
        "for i,j in d1.items():\n",
        "  print(i,j)\n",
        "d1['c']=3  #donotwrite d1[c]=3 this gives error\n",
        "print(d1.keys(),d1.values())\n",
        "print(d1)\n",
        "print(d1.get('d',\"NA\"))\n",
        "print(d1.get('c',\"NA\"))\n",
        "d1.pop('c')\n",
        "for i in d1:\n",
        "  print(i,d1[i])\n",
        "d2={'b':3,'c':4}\n",
        "d1.update(d2)\n",
        "print(d1)"
      ],
      "execution_count": 41,
      "outputs": [
        {
          "output_type": "stream",
          "text": [
            "{'a': 1, 'b': 2}\n",
            "a 1\n",
            "b 2\n",
            "dict_keys(['a', 'b', 'c']) dict_values([1, 2, 3])\n",
            "{'a': 1, 'b': 2, 'c': 3}\n",
            "NA\n",
            "3\n",
            "a 1\n",
            "b 2\n",
            "{'a': 1, 'b': 3, 'c': 4}\n"
          ],
          "name": "stdout"
        }
      ]
    },
    {
      "cell_type": "code",
      "metadata": {
        "id": "29dcBcGGfJt2",
        "colab_type": "code",
        "colab": {
          "base_uri": "https://localhost:8080/",
          "height": 51
        },
        "outputId": "36133f16-3707-4449-d4c8-1dd6ace2e532"
      },
      "source": [
        "s=input()\n",
        "d3={}\n",
        "for i in s:\n",
        "  if i not in d3:\n",
        "    d3[i]=1\n",
        "  else:\n",
        "    d3[i]+=1\n",
        "print(d3)"
      ],
      "execution_count": 61,
      "outputs": [
        {
          "output_type": "stream",
          "text": [
            "abcdabcdab\n",
            "{'a': 3, 'b': 3, 'c': 2, 'd': 2}\n"
          ],
          "name": "stdout"
        }
      ]
    },
    {
      "cell_type": "code",
      "metadata": {
        "id": "yVNvwxVjitKw",
        "colab_type": "code",
        "colab": {
          "base_uri": "https://localhost:8080/",
          "height": 68
        },
        "outputId": "10cc9534-55a2-4674-b4c1-a53b36869df6"
      },
      "source": [
        "d1={1:2,2:3}\n",
        "for i in d1:\n",
        "  print(i,d1[i])\n",
        "else:\n",
        "  print(\"done\")"
      ],
      "execution_count": 57,
      "outputs": [
        {
          "output_type": "stream",
          "text": [
            "1 2\n",
            "2 3\n",
            "done\n"
          ],
          "name": "stdout"
        }
      ]
    },
    {
      "cell_type": "code",
      "metadata": {
        "id": "TMF7Fz_0Rv3S",
        "colab_type": "code",
        "colab": {
          "base_uri": "https://localhost:8080/",
          "height": 248
        },
        "outputId": "498eeb71-6aaa-4460-a714-19ce81d7d61d"
      },
      "source": [
        "import string\n",
        "s=input()\n",
        "d1={}\n",
        "s=s.lower()\n",
        "s1=s.translate(str.maketrans(\"\",\"\",string.punctuation))\n",
        "l1=list()\n",
        "l1=s1.split()\n",
        "for i in l1:\n",
        "  if i not in d1:\n",
        "    d1[i]=1\n",
        "  else:\n",
        "    d1[i]+=1\n",
        "print(l1)\n",
        "print(d1)\n",
        "for i in sorted(d1.values()):\n",
        "  print(i,d1[i])"
      ],
      "execution_count": 73,
      "outputs": [
        {
          "output_type": "stream",
          "text": [
            "A Man was walking! he finds another man! and it starts raining, so they ran.\n",
            "['a', 'man', 'was', 'walking', 'he', 'finds', 'another', 'man', 'and', 'it', 'starts', 'raining', 'so', 'they', 'ran']\n",
            "{'a': 1, 'man': 2, 'was': 1, 'walking': 1, 'he': 1, 'finds': 1, 'another': 1, 'and': 1, 'it': 1, 'starts': 1, 'raining': 1, 'so': 1, 'they': 1, 'ran': 1}\n"
          ],
          "name": "stdout"
        },
        {
          "output_type": "error",
          "ename": "KeyError",
          "evalue": "ignored",
          "traceback": [
            "\u001b[0;31m---------------------------------------------------------------------------\u001b[0m",
            "\u001b[0;31mKeyError\u001b[0m                                  Traceback (most recent call last)",
            "\u001b[0;32m<ipython-input-73-fc1d13049b5c>\u001b[0m in \u001b[0;36m<module>\u001b[0;34m()\u001b[0m\n\u001b[1;32m     14\u001b[0m \u001b[0mprint\u001b[0m\u001b[0;34m(\u001b[0m\u001b[0md1\u001b[0m\u001b[0;34m)\u001b[0m\u001b[0;34m\u001b[0m\u001b[0;34m\u001b[0m\u001b[0m\n\u001b[1;32m     15\u001b[0m \u001b[0;32mfor\u001b[0m \u001b[0mi\u001b[0m \u001b[0;32min\u001b[0m \u001b[0msorted\u001b[0m\u001b[0;34m(\u001b[0m\u001b[0md1\u001b[0m\u001b[0;34m.\u001b[0m\u001b[0mvalues\u001b[0m\u001b[0;34m(\u001b[0m\u001b[0;34m)\u001b[0m\u001b[0;34m)\u001b[0m\u001b[0;34m:\u001b[0m\u001b[0;34m\u001b[0m\u001b[0;34m\u001b[0m\u001b[0m\n\u001b[0;32m---> 16\u001b[0;31m   \u001b[0mprint\u001b[0m\u001b[0;34m(\u001b[0m\u001b[0mi\u001b[0m\u001b[0;34m,\u001b[0m\u001b[0md1\u001b[0m\u001b[0;34m[\u001b[0m\u001b[0mi\u001b[0m\u001b[0;34m]\u001b[0m\u001b[0;34m)\u001b[0m\u001b[0;34m\u001b[0m\u001b[0;34m\u001b[0m\u001b[0m\n\u001b[0m",
            "\u001b[0;31mKeyError\u001b[0m: 1"
          ]
        }
      ]
    }
  ]
}