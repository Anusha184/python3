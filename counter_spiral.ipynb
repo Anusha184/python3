{
  "nbformat": 4,
  "nbformat_minor": 0,
  "metadata": {
    "colab": {
      "name": "Untitled4.ipynb",
      "provenance": [],
      "include_colab_link": true
    },
    "kernelspec": {
      "name": "python3",
      "display_name": "Python 3"
    }
  },
  "cells": [
    {
      "cell_type": "markdown",
      "metadata": {
        "id": "view-in-github",
        "colab_type": "text"
      },
      "source": [
        "<a href=\"https://colab.research.google.com/github/vibha-v/hack/blob/master/counter_spiral.ipynb\" target=\"_parent\"><img src=\"https://colab.research.google.com/assets/colab-badge.svg\" alt=\"Open In Colab\"/></a>"
      ]
    },
    {
      "cell_type": "code",
      "metadata": {
        "id": "MeZplrd67iGx",
        "colab_type": "code",
        "colab": {}
      },
      "source": [
        "n=int(input())\n",
        "matrix=[]\n",
        "\n",
        "for i in range(0,n):\n",
        "  a=list(map(int,input().split()))\n",
        "  matrix.append(a)\n",
        "p=n\n",
        "q=n\n",
        "x=0\n",
        "y=0\n",
        "c=0\n",
        "t=n*n\n",
        "\n",
        "while(x<p and y<q): \n",
        "  if(c==t): \n",
        "    break\n",
        "    \n",
        "  for i in range(x,p): \n",
        "    print(matrix[i][y],end = \" \") \n",
        "    c+=1\n",
        "    \n",
        "  y+=1 \n",
        "  \n",
        "  if(c==t):\n",
        "    break\n",
        "    \n",
        "  for i in range(y,q): \n",
        "    print(matrix[p-1][i],end=\" \") \n",
        "    c+= 1\n",
        "    \n",
        "  p-=1\n",
        "  \n",
        "  if(c==t): \n",
        "    break\n",
        "    \n",
        "  if(x<p): \n",
        "    for i in range(p-1,x-1,-1): \n",
        "      print(matrix[i][q-1],end= \" \") \n",
        "      c+= 1\n",
        "    q-=1\n",
        "    \n",
        "  if(c==t): \n",
        "    break\n",
        "    \n",
        "  if (y<q) : \n",
        "    for i in range(q-1,y-1,-1) : \n",
        "      print(matrix[x][i],end = \" \") \n",
        "      c+=1\n",
        "      \n",
        "  x+=1"
      ],
      "execution_count": 0,
      "outputs": []
    }
  ]
}